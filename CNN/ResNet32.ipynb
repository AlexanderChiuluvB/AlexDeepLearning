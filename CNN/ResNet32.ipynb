{
 "cells": [
  {
   "cell_type": "code",
   "execution_count": 11,
   "metadata": {},
   "outputs": [],
   "source": [
    "from helpers import *\n",
    "from keras.layers import *\n",
    "from keras.models import Model\n",
    "from keras import optimizers\n",
    "from keras.preprocessing.image import ImageDataGenerator\n",
    "import keras\n",
    "weight_decay       = 1e-4"
   ]
  },
  {
   "cell_type": "code",
   "execution_count": 2,
   "metadata": {},
   "outputs": [
    {
     "name": "stdout",
     "output_type": "stream",
     "text": [
      "Loading data: /home/alex/CS230/CNN/data_batch_1\n",
      "Loading data: /home/alex/CS230/CNN/data_batch_2\n",
      "Loading data: /home/alex/CS230/CNN/data_batch_3\n",
      "Loading data: /home/alex/CS230/CNN/data_batch_4\n",
      "Loading data: /home/alex/CS230/CNN/data_batch_5\n",
      "Loading data: /home/alex/CS230/CNN/test_batch\n"
     ]
    }
   ],
   "source": [
    "x_train, _, y_train= load_training_data()\n",
    "x_test, _, y_test = load_test_data()\n",
    "input_shape = list(x_train.shape[1:])\n",
    "classes = y_train.shape[1]"
   ]
  },
  {
   "cell_type": "code",
   "execution_count": 15,
   "metadata": {},
   "outputs": [],
   "source": [
    "def buildingBlock(X,filter_size,filters,stride=1):\n",
    "    \n",
    "    X_shortcut = X\n",
    "    \n",
    "    #convolution block,else identity block\n",
    "    if(stride>1):\n",
    "        X_shortcut = Conv2D(filters,kernel_size=(1,1),strides=stride,padding='same')(X_shortcut)\n",
    "        X_shortcut = BatchNormalization(axis=3)(X_shortcut)\n",
    "    #first layer\n",
    "    \n",
    "    X = Conv2D(filters,kernel_size=filter_size,strides=stride,padding='same')(X)\n",
    "    X = BatchNormalization(axis=3)(X)\n",
    "    X = Activation('relu')(X)\n",
    "    \n",
    "    #second layer\n",
    "    \n",
    "    X = Conv2D(filters,kernel_size=filter_size,strides=(1,1),padding='same')(X)\n",
    "    X = BatchNormalization(axis=3)(X)\n",
    "    X = add([X,X_shortcut])\n",
    "    X = Activation('relu')(X)\n",
    "    \n",
    "    \n",
    "    return X"
   ]
  },
  {
   "cell_type": "code",
   "execution_count": 16,
   "metadata": {},
   "outputs": [],
   "source": [
    "def model(input_shape,classes,name):\n",
    "    \n",
    "    X_input = Input(input_shape)\n",
    "    \n",
    "    #Stage 1\n",
    "    #input 32x32x3 output 32x32x16\n",
    "    X = Conv2D(filters=16,kernel_size=3,strides=(1,1),padding='same',kernel_regularizer=keras.regularizers.l2(weight_decay),\n",
    "              kernel_initializer=\"he_normal\")(X_input)\n",
    "\n",
    "    for i in range(5):\n",
    "        X = buildingBlock(X,filter_size=3,filters=16,stride=1)\n",
    "    \n",
    "    X = buildingBlock(X,filter_size=3,filters=16,stride=2)\n",
    "    for i in range(4):\n",
    "        X = buildingBlock(X,filter_size=3,filters=16,stride=1)\n",
    "        \n",
    "    \n",
    "    X = buildingBlock(X,filter_size=3,filters=16,stride=2)\n",
    "    for i in range(4):\n",
    "        X = buildingBlock(X,filter_size=3,filters=16,stride=1)\n",
    "        \n",
    "    X = BatchNormalization(momentum=0.9, epsilon=1e-5)(X)\n",
    "    X = Activation('relu')(X)\n",
    "    X = GlobalAveragePooling2D()(X)\n",
    "    \n",
    "    #input64 output 10\n",
    "    X = Dense(classes,activation='softmax',kernel_initializer=\"he_normal\", kernel_regularizer=regularizers.l2(weight_decay))(X)\n",
    "\n",
    "    return Model(inputs = X_input,outputs=X,name=name)\n",
    "    "
   ]
  },
  {
   "cell_type": "code",
   "execution_count": 17,
   "metadata": {},
   "outputs": [],
   "source": [
    "optimizer = optimizers.Adam(lr=0.001,beta_1=0.9,beta_2=0.999,epsilon=1e-8,decay=0.0)\n",
    "ResNet32 = model(input_shape=input_shape,classes = classes,name='ResNet32')\n",
    "ResNet32.compile(optimizer=optimizer,loss='categorical_crossentropy', metrics = ['accuracy'])\n"
   ]
  },
  {
   "cell_type": "code",
   "execution_count": null,
   "metadata": {},
   "outputs": [
    {
     "name": "stdout",
     "output_type": "stream",
     "text": [
      "Epoch 1/1\n",
      "199/200 [============================>.] - ETA: 1s - loss: 0.9645 - acc: 0.6579"
     ]
    }
   ],
   "source": [
    "datagen = ImageDataGenerator(\n",
    "        rotation_range=30,  # randomly rotate images in the range (degrees, 0 to 180)\n",
    "        width_shift_range=0.1,  # randomly shift images horizontally (fraction of total width)\n",
    "        height_shift_range=0.1,  # randomly shift images vertically (fraction of total height)\n",
    "        horizontal_flip=True)  # randomly flip images\n",
    "\n",
    "\n",
    "# Train model\n",
    "results = ResNet32.fit_generator(datagen.flow(x_train, y_train,\n",
    "                                 batch_size = 250),\n",
    "                                 epochs = 1,\n",
    "                                 steps_per_epoch=200,  # data_size/batch size\n",
    "                                 validation_data=(x_test, y_test))\n",
    "\n",
    "# Plot train / validation results\n",
    "plot_results(results)\n",
    "\n",
    "# Print model architecture\n",
    "ResNet32.summary()\n"
   ]
  },
  {
   "cell_type": "code",
   "execution_count": null,
   "metadata": {},
   "outputs": [],
   "source": []
  },
  {
   "cell_type": "code",
   "execution_count": null,
   "metadata": {},
   "outputs": [],
   "source": []
  },
  {
   "cell_type": "code",
   "execution_count": null,
   "metadata": {},
   "outputs": [],
   "source": [
    "#more specfic version\n",
    "\n",
    "#https://blog.csdn.net/bryant_meng/article/details/81187434"
   ]
  },
  {
   "cell_type": "code",
   "execution_count": null,
   "metadata": {},
   "outputs": [],
   "source": []
  }
 ],
 "metadata": {
  "kernelspec": {
   "display_name": "Python 3",
   "language": "python",
   "name": "python3"
  },
  "language_info": {
   "codemirror_mode": {
    "name": "ipython",
    "version": 3
   },
   "file_extension": ".py",
   "mimetype": "text/x-python",
   "name": "python",
   "nbconvert_exporter": "python",
   "pygments_lexer": "ipython3",
   "version": "3.6.5"
  }
 },
 "nbformat": 4,
 "nbformat_minor": 2
}
