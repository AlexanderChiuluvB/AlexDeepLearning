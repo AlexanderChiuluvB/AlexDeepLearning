{
 "cells": [
  {
   "cell_type": "code",
   "execution_count": 2,
   "metadata": {},
   "outputs": [
    {
     "name": "stdout",
     "output_type": "stream",
     "text": [
      "/home/zhk/mytrain/dogs-vs-cats\n"
     ]
    }
   ],
   "source": [
    "import os\n",
    "import shutil\n",
    "\n",
    "print(os.getcwd())"
   ]
  },
  {
   "cell_type": "code",
   "execution_count": 75,
   "metadata": {},
   "outputs": [],
   "source": [
    "from keras.models import *\n",
    "from keras.layers import *\n",
    "from keras.applications import *\n",
    "from keras.preprocessing.image import *\n",
    "\n",
    "import h5py"
   ]
  },
  {
   "cell_type": "code",
   "execution_count": 35,
   "metadata": {},
   "outputs": [
    {
     "name": "stdout",
     "output_type": "stream",
     "text": [
      "Found 12500 images belonging to 1 classes.\n"
     ]
    }
   ],
   "source": [
    "#使用flow_from_directory 的时候该文件夹必须有一个子文件夹\n",
    "\n",
    "test_generator = gen.flow_from_directory(\"test2\",class_mode=None)"
   ]
  },
  {
   "cell_type": "code",
   "execution_count": 78,
   "metadata": {},
   "outputs": [],
   "source": [
    "def readModel(MODEL,image_size,model_name,lambda_func=None):\n",
    "    \n",
    "    W,H = image_size[0],image_size[1]\n",
    "    input_tensor = Input((H,W,3))\n",
    "    x = input_tensor\n",
    "    if lambda_func:\n",
    "        x = Lambda(lambda_func)(x)\n",
    "    \n",
    "    model_base = MODEL(input_tensor=x,weights='imagenet',include_top = False)\n",
    "    model = Model(model_base.input,GlobalAveragePooling2D()(model_base.output))\n",
    "    \n",
    "    gen = ImageDataGenerator()\n",
    "    train_generator = gen.flow_from_directory(\"train2\",image_size,shuffle=False,batch_size=16)\n",
    "    test_generator = gen.flow_from_directory(\"test2\",image_size,shuffle=False,batch_size=16,class_mode=None)\n",
    "    batch_size=16\n",
    "    train = model.predict_generator(train_generator)\n",
    "    test = model.predict_generator(test_generator)\n",
    "    \n",
    "    with h5py.File(\"gap_%s.h5\"%model_name) as h:\n",
    "        h.create_dataset(\"train\",data=train)\n",
    "        h.create_dataset(\"test\",data=test)\n",
    "        h.create_dataset(\"label\",data=train_generator.classes)\n",
    "    "
   ]
  },
  {
   "cell_type": "code",
   "execution_count": 121,
   "metadata": {},
   "outputs": [
    {
     "name": "stderr",
     "output_type": "stream",
     "text": [
      "/home/zhk/anaconda3/lib/python3.6/site-packages/keras_applications/resnet50.py:265: UserWarning: The output shape of `ResNet50(include_top=False)` has been changed since Keras 2.2.0.\n",
      "  warnings.warn('The output shape of `ResNet50(include_top=False)` '\n"
     ]
    },
    {
     "name": "stdout",
     "output_type": "stream",
     "text": [
      "Found 29000 images belonging to 2 classes.\n",
      "Found 12500 images belonging to 1 classes.\n",
      "Found 29000 images belonging to 2 classes.\n",
      "Found 12500 images belonging to 1 classes.\n"
     ]
    }
   ],
   "source": [
    "readModel(ResNet50, (224, 224),\"ResNet50_v2\",lambda_func=resnet50.preprocess_input)\n",
    "readModel(VGG16, (224, 224),\"VGG16_v2\",lambda_func=vgg16.preprocess_input)\n"
   ]
  },
  {
   "cell_type": "code",
   "execution_count": null,
   "metadata": {},
   "outputs": [],
   "source": [
    "readModel(InceptionV3, (299, 299), \"InceptionV3\",lambda_func=inception_v3.preprocess_input)\n",
    "readModel(Xception, (299, 299), \"Xception\",lambda_func=xception.preprocess_input)"
   ]
  },
  {
   "cell_type": "code",
   "execution_count": 136,
   "metadata": {},
   "outputs": [],
   "source": [
    "\n",
    "import h5py\n",
    "import numpy as np\n",
    "from sklearn.utils import shuffle\n",
    "np.random.seed(2017)\n",
    "\n",
    "X_train = []\n",
    "X_test = []\n",
    "\n",
    "for filename in [\"gap_ResNet50_v2.h5\", \"gap_Xception.h5\", \"gap_InceptionV3.h5\"]:\n",
    "    with h5py.File(filename, 'r') as h:\n",
    "        X_train.append(np.array(h['train']))\n",
    "        X_test.append(np.array(h['test']))\n",
    "        y_train = np.array(h['label'])\n",
    "\n",
    "X_train = np.concatenate(X_train, axis=1)\n",
    "X_test = np.concatenate(X_test, axis=1)\n",
    "\n",
    "X_train, y_train = shuffle(X_train, y_train)"
   ]
  },
  {
   "cell_type": "code",
   "execution_count": 137,
   "metadata": {},
   "outputs": [
    {
     "data": {
      "text/plain": [
       "29000"
      ]
     },
     "execution_count": 137,
     "metadata": {},
     "output_type": "execute_result"
    }
   ],
   "source": [
    "len(X_train)"
   ]
  },
  {
   "cell_type": "code",
   "execution_count": 138,
   "metadata": {},
   "outputs": [],
   "source": [
    "from keras.models import *\n",
    "from keras.layers import *\n",
    "\n",
    "np.random.seed(2019)\n",
    "\n",
    "input_tensor = Input(X_train.shape[1:])\n",
    "x = Dropout(0.5)(input_tensor)\n",
    "x = Dense(1,activation='sigmoid')(x)\n",
    "model = Model(input_tensor,x)\n",
    "\n",
    "model.compile(optimizer='Adam',loss='binary_crossentropy',metrics=['accuracy'])"
   ]
  },
  {
   "cell_type": "code",
   "execution_count": 139,
   "metadata": {},
   "outputs": [
    {
     "name": "stdout",
     "output_type": "stream",
     "text": [
      "Train on 23200 samples, validate on 5800 samples\n",
      "Epoch 1/50\n",
      "23200/23200 [==============================] - 32s 1ms/step - loss: 0.2580 - acc: 0.9103 - val_loss: 0.2276 - val_acc: 0.9255\n",
      "Epoch 2/50\n",
      "23200/23200 [==============================] - 4s 191us/step - loss: 0.2350 - acc: 0.9199 - val_loss: 0.2398 - val_acc: 0.9257\n",
      "Epoch 3/50\n",
      "23200/23200 [==============================] - 5s 216us/step - loss: 0.2322 - acc: 0.9217 - val_loss: 0.2383 - val_acc: 0.9157\n",
      "Epoch 4/50\n",
      "23200/23200 [==============================] - 5s 219us/step - loss: 0.2283 - acc: 0.9212 - val_loss: 0.2251 - val_acc: 0.9252\n",
      "Epoch 5/50\n",
      "23200/23200 [==============================] - 5s 234us/step - loss: 0.2228 - acc: 0.9224 - val_loss: 0.2302 - val_acc: 0.9241\n",
      "Epoch 6/50\n",
      "23200/23200 [==============================] - 6s 245us/step - loss: 0.2256 - acc: 0.9219 - val_loss: 0.2286 - val_acc: 0.9247\n",
      "Epoch 7/50\n",
      "23200/23200 [==============================] - 6s 264us/step - loss: 0.2240 - acc: 0.9211 - val_loss: 0.2312 - val_acc: 0.9252\n",
      "Epoch 8/50\n",
      "23200/23200 [==============================] - 5s 230us/step - loss: 0.2202 - acc: 0.9228 - val_loss: 0.2333 - val_acc: 0.9247\n",
      "Epoch 9/50\n",
      "23200/23200 [==============================] - 5s 216us/step - loss: 0.2204 - acc: 0.9214 - val_loss: 0.2312 - val_acc: 0.9257\n",
      "Epoch 10/50\n",
      "23200/23200 [==============================] - 5s 209us/step - loss: 0.2192 - acc: 0.9221 - val_loss: 0.2365 - val_acc: 0.9248\n",
      "Epoch 11/50\n",
      "23200/23200 [==============================] - 5s 209us/step - loss: 0.2219 - acc: 0.9224 - val_loss: 0.2419 - val_acc: 0.9255\n",
      "Epoch 12/50\n",
      "23200/23200 [==============================] - 5s 203us/step - loss: 0.2178 - acc: 0.9231 - val_loss: 0.2375 - val_acc: 0.9219\n",
      "Epoch 13/50\n",
      "23200/23200 [==============================] - 5s 201us/step - loss: 0.2193 - acc: 0.9229 - val_loss: 0.2375 - val_acc: 0.9240\n",
      "Epoch 14/50\n",
      "23200/23200 [==============================] - 5s 205us/step - loss: 0.2213 - acc: 0.9220 - val_loss: 0.2359 - val_acc: 0.9241\n",
      "Epoch 15/50\n",
      "23200/23200 [==============================] - 4s 190us/step - loss: 0.2219 - acc: 0.9207 - val_loss: 0.2342 - val_acc: 0.9243\n",
      "Epoch 16/50\n",
      "23200/23200 [==============================] - 4s 181us/step - loss: 0.2208 - acc: 0.9217 - val_loss: 0.2356 - val_acc: 0.9219\n",
      "Epoch 17/50\n",
      "23200/23200 [==============================] - 4s 183us/step - loss: 0.2204 - acc: 0.9202 - val_loss: 0.2378 - val_acc: 0.9241\n",
      "Epoch 18/50\n",
      "23200/23200 [==============================] - 4s 181us/step - loss: 0.2217 - acc: 0.9208 - val_loss: 0.2430 - val_acc: 0.9248\n",
      "Epoch 19/50\n",
      "23200/23200 [==============================] - 4s 180us/step - loss: 0.2205 - acc: 0.9224 - val_loss: 0.2379 - val_acc: 0.9195\n",
      "Epoch 20/50\n",
      "23200/23200 [==============================] - 4s 175us/step - loss: 0.2202 - acc: 0.9202 - val_loss: 0.2466 - val_acc: 0.9255\n",
      "Epoch 21/50\n",
      "23200/23200 [==============================] - 4s 186us/step - loss: 0.2181 - acc: 0.9215 - val_loss: 0.2375 - val_acc: 0.9247\n",
      "Epoch 22/50\n",
      "23200/23200 [==============================] - 5s 196us/step - loss: 0.2165 - acc: 0.9227 - val_loss: 0.2464 - val_acc: 0.9255\n",
      "Epoch 23/50\n",
      "23200/23200 [==============================] - 4s 189us/step - loss: 0.2212 - acc: 0.9205 - val_loss: 0.2392 - val_acc: 0.9250\n",
      "Epoch 24/50\n",
      "23200/23200 [==============================] - 4s 179us/step - loss: 0.2182 - acc: 0.9228 - val_loss: 0.2468 - val_acc: 0.9248\n",
      "Epoch 25/50\n",
      "23200/23200 [==============================] - 4s 183us/step - loss: 0.2227 - acc: 0.9197 - val_loss: 0.2395 - val_acc: 0.9250\n",
      "Epoch 26/50\n",
      "23200/23200 [==============================] - 5s 196us/step - loss: 0.2195 - acc: 0.9211 - val_loss: 0.2384 - val_acc: 0.9248\n",
      "Epoch 27/50\n",
      "23200/23200 [==============================] - 4s 194us/step - loss: 0.2186 - acc: 0.9213 - val_loss: 0.2510 - val_acc: 0.9252\n",
      "Epoch 28/50\n",
      "23200/23200 [==============================] - 4s 184us/step - loss: 0.2176 - acc: 0.9220 - val_loss: 0.2416 - val_acc: 0.9255\n",
      "Epoch 29/50\n",
      "23200/23200 [==============================] - 5s 206us/step - loss: 0.2209 - acc: 0.9206 - val_loss: 0.2538 - val_acc: 0.9250\n",
      "Epoch 30/50\n",
      "23200/23200 [==============================] - 5s 195us/step - loss: 0.2194 - acc: 0.9218 - val_loss: 0.2413 - val_acc: 0.9248\n",
      "Epoch 31/50\n",
      "23200/23200 [==============================] - 4s 180us/step - loss: 0.2207 - acc: 0.9203 - val_loss: 0.2401 - val_acc: 0.9255\n",
      "Epoch 32/50\n",
      "23200/23200 [==============================] - 5s 206us/step - loss: 0.2165 - acc: 0.9227 - val_loss: 0.2407 - val_acc: 0.9250\n",
      "Epoch 33/50\n",
      "23200/23200 [==============================] - 5s 199us/step - loss: 0.2174 - acc: 0.9207 - val_loss: 0.2369 - val_acc: 0.9228\n",
      "Epoch 34/50\n",
      "23200/23200 [==============================] - 6s 243us/step - loss: 0.2182 - acc: 0.9220 - val_loss: 0.2412 - val_acc: 0.9186\n",
      "Epoch 35/50\n",
      "23200/23200 [==============================] - 6s 258us/step - loss: 0.2205 - acc: 0.9209 - val_loss: 0.2383 - val_acc: 0.9243\n",
      "Epoch 36/50\n",
      "23200/23200 [==============================] - 6s 274us/step - loss: 0.2193 - acc: 0.9213 - val_loss: 0.2398 - val_acc: 0.9250\n",
      "Epoch 37/50\n",
      "23200/23200 [==============================] - 6s 265us/step - loss: 0.2215 - acc: 0.9194 - val_loss: 0.2377 - val_acc: 0.9236\n",
      "Epoch 38/50\n",
      "23200/23200 [==============================] - 6s 252us/step - loss: 0.2185 - acc: 0.9231 - val_loss: 0.2377 - val_acc: 0.9229\n",
      "Epoch 39/50\n",
      "23200/23200 [==============================] - 6s 269us/step - loss: 0.2193 - acc: 0.9202 - val_loss: 0.2384 - val_acc: 0.9245\n",
      "Epoch 40/50\n",
      "23200/23200 [==============================] - 6s 273us/step - loss: 0.2199 - acc: 0.9216 - val_loss: 0.2444 - val_acc: 0.9247\n",
      "Epoch 41/50\n",
      "23200/23200 [==============================] - 6s 242us/step - loss: 0.2211 - acc: 0.9209 - val_loss: 0.2539 - val_acc: 0.9247\n",
      "Epoch 42/50\n",
      "23200/23200 [==============================] - 5s 203us/step - loss: 0.2171 - acc: 0.9230 - val_loss: 0.2398 - val_acc: 0.9205\n",
      "Epoch 43/50\n",
      "23200/23200 [==============================] - 6s 245us/step - loss: 0.2200 - acc: 0.9211 - val_loss: 0.2411 - val_acc: 0.9255\n",
      "Epoch 44/50\n",
      "23200/23200 [==============================] - 5s 226us/step - loss: 0.2180 - acc: 0.9212 - val_loss: 0.2605 - val_acc: 0.9252\n",
      "Epoch 45/50\n",
      "23200/23200 [==============================] - 6s 241us/step - loss: 0.2215 - acc: 0.9213 - val_loss: 0.2379 - val_acc: 0.9224\n",
      "Epoch 46/50\n",
      "23200/23200 [==============================] - 5s 227us/step - loss: 0.2189 - acc: 0.9203 - val_loss: 0.2394 - val_acc: 0.9253\n",
      "Epoch 47/50\n",
      "23200/23200 [==============================] - 5s 226us/step - loss: 0.2223 - acc: 0.9208 - val_loss: 0.2444 - val_acc: 0.9255\n",
      "Epoch 48/50\n",
      "23200/23200 [==============================] - 5s 224us/step - loss: 0.2188 - acc: 0.9205 - val_loss: 0.2453 - val_acc: 0.9253\n",
      "Epoch 49/50\n",
      "23200/23200 [==============================] - 6s 244us/step - loss: 0.2177 - acc: 0.9216 - val_loss: 0.2512 - val_acc: 0.9253\n",
      "Epoch 50/50\n",
      "23200/23200 [==============================] - 5s 216us/step - loss: 0.2235 - acc: 0.9200 - val_loss: 0.2376 - val_acc: 0.9234\n"
     ]
    },
    {
     "data": {
      "text/plain": [
       "<keras.callbacks.History at 0x7f4bd57129b0>"
      ]
     },
     "execution_count": 139,
     "metadata": {},
     "output_type": "execute_result"
    }
   ],
   "source": [
    "model.fit(X_train,y_train,batch_size=128,validation_split=0.2,epochs=50)"
   ]
  },
  {
   "cell_type": "code",
   "execution_count": 140,
   "metadata": {},
   "outputs": [],
   "source": [
    "model.save('mode.h5')"
   ]
  },
  {
   "cell_type": "code",
   "execution_count": 141,
   "metadata": {},
   "outputs": [
    {
     "name": "stdout",
     "output_type": "stream",
     "text": [
      "Found 12500 images belonging to 1 classes.\n"
     ]
    },
    {
     "data": {
      "text/html": [
       "<div>\n",
       "<style scoped>\n",
       "    .dataframe tbody tr th:only-of-type {\n",
       "        vertical-align: middle;\n",
       "    }\n",
       "\n",
       "    .dataframe tbody tr th {\n",
       "        vertical-align: top;\n",
       "    }\n",
       "\n",
       "    .dataframe thead th {\n",
       "        text-align: right;\n",
       "    }\n",
       "</style>\n",
       "<table border=\"1\" class=\"dataframe\">\n",
       "  <thead>\n",
       "    <tr style=\"text-align: right;\">\n",
       "      <th></th>\n",
       "      <th>id</th>\n",
       "      <th>label</th>\n",
       "    </tr>\n",
       "  </thead>\n",
       "  <tbody>\n",
       "    <tr>\n",
       "      <th>0</th>\n",
       "      <td>1</td>\n",
       "      <td>0.995</td>\n",
       "    </tr>\n",
       "    <tr>\n",
       "      <th>1</th>\n",
       "      <td>2</td>\n",
       "      <td>0.995</td>\n",
       "    </tr>\n",
       "    <tr>\n",
       "      <th>2</th>\n",
       "      <td>3</td>\n",
       "      <td>0.995</td>\n",
       "    </tr>\n",
       "    <tr>\n",
       "      <th>3</th>\n",
       "      <td>4</td>\n",
       "      <td>0.995</td>\n",
       "    </tr>\n",
       "    <tr>\n",
       "      <th>4</th>\n",
       "      <td>5</td>\n",
       "      <td>0.005</td>\n",
       "    </tr>\n",
       "    <tr>\n",
       "      <th>5</th>\n",
       "      <td>6</td>\n",
       "      <td>0.005</td>\n",
       "    </tr>\n",
       "    <tr>\n",
       "      <th>6</th>\n",
       "      <td>7</td>\n",
       "      <td>0.005</td>\n",
       "    </tr>\n",
       "    <tr>\n",
       "      <th>7</th>\n",
       "      <td>8</td>\n",
       "      <td>0.005</td>\n",
       "    </tr>\n",
       "    <tr>\n",
       "      <th>8</th>\n",
       "      <td>9</td>\n",
       "      <td>0.005</td>\n",
       "    </tr>\n",
       "    <tr>\n",
       "      <th>9</th>\n",
       "      <td>10</td>\n",
       "      <td>0.005</td>\n",
       "    </tr>\n",
       "  </tbody>\n",
       "</table>\n",
       "</div>"
      ],
      "text/plain": [
       "   id  label\n",
       "0   1  0.995\n",
       "1   2  0.995\n",
       "2   3  0.995\n",
       "3   4  0.995\n",
       "4   5  0.005\n",
       "5   6  0.005\n",
       "6   7  0.005\n",
       "7   8  0.005\n",
       "8   9  0.005\n",
       "9  10  0.005"
      ]
     },
     "execution_count": 141,
     "metadata": {},
     "output_type": "execute_result"
    }
   ],
   "source": [
    "\n",
    "\n",
    "import pandas as pd\n",
    "from keras.preprocessing.image import *\n",
    "\n",
    "df = pd.read_csv(\"sampleSubmission.csv\")\n",
    "\n",
    "image_size = (224, 224)\n",
    "gen = ImageDataGenerator()\n",
    "test_generator = gen.flow_from_directory(\"test2\", image_size, shuffle=False, \n",
    "                                         batch_size=16, class_mode=None)\n",
    "\n",
    "for i, fname in enumerate(test_generator.filenames):\n",
    "    index = int(fname[fname.rfind('/')+1:fname.rfind('.')])\n",
    "    df.loc[index-1,'label']=y_pred[i]\n",
    "\n",
    "df.to_csv('pred.csv', index=None)\n",
    "df.head(10)\n"
   ]
  },
  {
   "cell_type": "code",
   "execution_count": 114,
   "metadata": {
    "scrolled": false
   },
   "outputs": [
    {
     "data": {
      "text/plain": [
       "array([[0.995],\n",
       "       [0.005],\n",
       "       [0.005],\n",
       "       ...,\n",
       "       [0.995],\n",
       "       [0.005],\n",
       "       [0.005]], dtype=float32)"
      ]
     },
     "execution_count": 114,
     "metadata": {},
     "output_type": "execute_result"
    }
   ],
   "source": []
  }
 ],
 "metadata": {
  "kernelspec": {
   "display_name": "Python 3",
   "language": "python",
   "name": "python3"
  },
  "language_info": {
   "codemirror_mode": {
    "name": "ipython",
    "version": 3
   },
   "file_extension": ".py",
   "mimetype": "text/x-python",
   "name": "python",
   "nbconvert_exporter": "python",
   "pygments_lexer": "ipython3",
   "version": "3.6.5"
  }
 },
 "nbformat": 4,
 "nbformat_minor": 2
}
